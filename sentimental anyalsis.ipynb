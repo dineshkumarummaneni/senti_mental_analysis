{
 "cells": [
  {
   "cell_type": "code",
   "execution_count": 1,
   "id": "5fef6d5e",
   "metadata": {},
   "outputs": [
    {
     "name": "stdout",
     "output_type": "stream",
     "text": [
      "WARNING:tensorflow:From C:\\Users\\gunas\\anaconda3\\Lib\\site-packages\\keras\\src\\losses.py:2976: The name tf.losses.sparse_softmax_cross_entropy is deprecated. Please use tf.compat.v1.losses.sparse_softmax_cross_entropy instead.\n",
      "\n"
     ]
    }
   ],
   "source": [
    "import pandas as pd\n",
    "import numpy as np\n",
    "import tensorflow as tf"
   ]
  },
  {
   "cell_type": "code",
   "execution_count": 2,
   "id": "51b07432",
   "metadata": {},
   "outputs": [
    {
     "data": {
      "text/plain": [
       "['.ipynb_checkpoints',\n",
       " 'Housing.csv',\n",
       " 'IMDB-Dataset.csv',\n",
       " 'Linear Regression model-maths.ipynb',\n",
       " 'men and women classification.ipynb',\n",
       " 'project1_eda.ipynb',\n",
       " 'read dataset.txt',\n",
       " 'sentimental anyalsis.ipynb',\n",
       " 'Untitled.ipynb']"
      ]
     },
     "execution_count": 2,
     "metadata": {},
     "output_type": "execute_result"
    }
   ],
   "source": [
    "import os\n",
    "import nltk\n",
    "\n",
    "os.listdir()"
   ]
  },
  {
   "cell_type": "code",
   "execution_count": 3,
   "id": "c91c8211",
   "metadata": {},
   "outputs": [],
   "source": [
    "dataset=pd.read_csv(r'IMDB-Dataset.csv')"
   ]
  },
  {
   "cell_type": "code",
   "execution_count": 4,
   "id": "73db7ae3",
   "metadata": {},
   "outputs": [
    {
     "data": {
      "text/plain": [
       "50000"
      ]
     },
     "execution_count": 4,
     "metadata": {},
     "output_type": "execute_result"
    }
   ],
   "source": [
    "len(dataset)"
   ]
  },
  {
   "cell_type": "code",
   "execution_count": 5,
   "id": "7fa5fbda",
   "metadata": {},
   "outputs": [
    {
     "data": {
      "text/plain": [
       "review       0\n",
       "sentiment    0\n",
       "dtype: int64"
      ]
     },
     "execution_count": 5,
     "metadata": {},
     "output_type": "execute_result"
    }
   ],
   "source": [
    "dataset.isnull().sum()"
   ]
  },
  {
   "cell_type": "code",
   "execution_count": 6,
   "id": "cb1deaaf",
   "metadata": {},
   "outputs": [
    {
     "data": {
      "text/plain": [
       "Index(['review', 'sentiment'], dtype='object')"
      ]
     },
     "execution_count": 6,
     "metadata": {},
     "output_type": "execute_result"
    }
   ],
   "source": [
    "dataset.columns"
   ]
  },
  {
   "cell_type": "code",
   "execution_count": 7,
   "id": "dd11fe66",
   "metadata": {},
   "outputs": [],
   "source": [
    "dataset=dataset[:200]"
   ]
  },
  {
   "cell_type": "code",
   "execution_count": 8,
   "id": "abd8f8b4",
   "metadata": {},
   "outputs": [
    {
     "data": {
      "text/plain": [
       "\"One of the other reviewers has mentioned that after watching just 1 Oz episode you'll be hooked. They are right, as this is exactly what happened with me.<br /><br />The first thing that struck me about Oz was its brutality and unflinching scenes of violence, which set in right from the word GO. Trust me, this is not a show for the faint hearted or timid. This show pulls no punches with regards to drugs, sex or violence. Its is hardcore, in the classic use of the word.<br /><br />It is called OZ as that is the nickname given to the Oswald Maximum Security State Penitentary. It focuses mainly on Emerald City, an experimental section of the prison where all the cells have glass fronts and face inwards, so privacy is not high on the agenda. Em City is home to many..Aryans, Muslims, gangstas, Latinos, Christians, Italians, Irish and more....so scuffles, death stares, dodgy dealings and shady agreements are never far away.<br /><br />I would say the main appeal of the show is due to the fact that it goes where other shows wouldn't dare. Forget pretty pictures painted for mainstream audiences, forget charm, forget romance...OZ doesn't mess around. The first episode I ever saw struck me as so nasty it was surreal, I couldn't say I was ready for it, but as I watched more, I developed a taste for Oz, and got accustomed to the high levels of graphic violence. Not just violence, but injustice (crooked guards who'll be sold out for a nickel, inmates who'll kill on order and get away with it, well mannered, middle class inmates being turned into prison bitches due to their lack of street skills or prison experience) Watching Oz, you may become comfortable with what is uncomfortable viewing....thats if you can get in touch with your darker side.\""
      ]
     },
     "execution_count": 8,
     "metadata": {},
     "output_type": "execute_result"
    }
   ],
   "source": [
    "x=dataset['review']\n",
    "y=dataset['sentiment']\n",
    "x[0]"
   ]
  },
  {
   "cell_type": "code",
   "execution_count": 9,
   "id": "f3f1f71b",
   "metadata": {},
   "outputs": [],
   "source": [
    "import re\n",
    "for i  in range(len(x)):\n",
    "    x[i]=re.sub(r'[^a-z\\s]', '',x[i])\n"
   ]
  },
  {
   "cell_type": "code",
   "execution_count": 10,
   "id": "4896f77c",
   "metadata": {},
   "outputs": [
    {
     "data": {
      "text/plain": [
       "'ne of the other reviewers has mentioned that after watching just  z episode youll be hooked hey are right as this is exactly what happened with mebr br he first thing that struck me about z was its brutality and unflinching scenes of violence which set in right from the word  rust me this is not a show for the faint hearted or timid his show pulls no punches with regards to drugs sex or violence ts is hardcore in the classic use of the wordbr br t is called  as that is the nickname given to the swald aximum ecurity tate enitentary t focuses mainly on merald ity an experimental section of the prison where all the cells have glass fronts and face inwards so privacy is not high on the agenda m ity is home to manyryans uslims gangstas atinos hristians talians rish and moreso scuffles death stares dodgy dealings and shady agreements are never far awaybr br  would say the main appeal of the show is due to the fact that it goes where other shows wouldnt dare orget pretty pictures painted for mainstream audiences forget charm forget romance doesnt mess around he first episode  ever saw struck me as so nasty it was surreal  couldnt say  was ready for it but as  watched more  developed a taste for z and got accustomed to the high levels of graphic violence ot just violence but injustice crooked guards wholl be sold out for a nickel inmates wholl kill on order and get away with it well mannered middle class inmates being turned into prison bitches due to their lack of street skills or prison experience atching z you may become comfortable with what is uncomfortable viewingthats if you can get in touch with your darker side'"
      ]
     },
     "execution_count": 10,
     "metadata": {},
     "output_type": "execute_result"
    }
   ],
   "source": [
    "x[0]"
   ]
  },
  {
   "cell_type": "code",
   "execution_count": 11,
   "id": "3bb2ea43",
   "metadata": {},
   "outputs": [],
   "source": [
    "from nltk.corpus import stopwords"
   ]
  },
  {
   "cell_type": "code",
   "execution_count": 12,
   "id": "0aad921c",
   "metadata": {},
   "outputs": [
    {
     "name": "stderr",
     "output_type": "stream",
     "text": [
      "[nltk_data] Downloading package stopwords to\n",
      "[nltk_data]     C:\\Users\\gunas\\AppData\\Roaming\\nltk_data...\n",
      "[nltk_data]   Package stopwords is already up-to-date!\n"
     ]
    },
    {
     "data": {
      "text/plain": [
       "True"
      ]
     },
     "execution_count": 12,
     "metadata": {},
     "output_type": "execute_result"
    }
   ],
   "source": [
    "nltk.download('stopwords')"
   ]
  },
  {
   "cell_type": "code",
   "execution_count": 13,
   "id": "d704633e",
   "metadata": {},
   "outputs": [],
   "source": [
    "stopwords=set(stopwords.words('english'))"
   ]
  },
  {
   "cell_type": "code",
   "execution_count": 14,
   "id": "e56e84a7",
   "metadata": {},
   "outputs": [],
   "source": [
    "for i in range(len(x)):\n",
    "    words=[word for word in x[i].split() if word.lower() not in stopwords]\n",
    "    x[i]=words\n",
    "    \n",
    "    "
   ]
  },
  {
   "cell_type": "code",
   "execution_count": 15,
   "id": "a3fb1260",
   "metadata": {},
   "outputs": [
    {
     "name": "stdout",
     "output_type": "stream",
     "text": [
      "['ne', 'reviewers', 'mentioned', 'watching', 'z', 'episode', 'youll', 'hooked', 'hey', 'right', 'exactly', 'happened', 'mebr', 'br', 'first', 'thing', 'struck', 'z', 'brutality', 'unflinching', 'scenes', 'violence', 'set', 'right', 'word', 'rust', 'show', 'faint', 'hearted', 'timid', 'show', 'pulls', 'punches', 'regards', 'drugs', 'sex', 'violence', 'ts', 'hardcore', 'classic', 'use', 'wordbr', 'br', 'called', 'nickname', 'given', 'swald', 'aximum', 'ecurity', 'tate', 'enitentary', 'focuses', 'mainly', 'merald', 'ity', 'experimental', 'section', 'prison', 'cells', 'glass', 'fronts', 'face', 'inwards', 'privacy', 'high', 'agenda', 'ity', 'home', 'manyryans', 'uslims', 'gangstas', 'atinos', 'hristians', 'talians', 'rish', 'moreso', 'scuffles', 'death', 'stares', 'dodgy', 'dealings', 'shady', 'agreements', 'never', 'far', 'awaybr', 'br', 'would', 'say', 'main', 'appeal', 'show', 'due', 'fact', 'goes', 'shows', 'wouldnt', 'dare', 'orget', 'pretty', 'pictures', 'painted', 'mainstream', 'audiences', 'forget', 'charm', 'forget', 'romance', 'doesnt', 'mess', 'around', 'first', 'episode', 'ever', 'saw', 'struck', 'nasty', 'surreal', 'couldnt', 'say', 'ready', 'watched', 'developed', 'taste', 'z', 'got', 'accustomed', 'high', 'levels', 'graphic', 'violence', 'ot', 'violence', 'injustice', 'crooked', 'guards', 'wholl', 'sold', 'nickel', 'inmates', 'wholl', 'kill', 'order', 'get', 'away', 'well', 'mannered', 'middle', 'class', 'inmates', 'turned', 'prison', 'bitches', 'due', 'lack', 'street', 'skills', 'prison', 'experience', 'atching', 'z', 'may', 'become', 'comfortable', 'uncomfortable', 'viewingthats', 'get', 'touch', 'darker', 'side']\n"
     ]
    }
   ],
   "source": [
    "print(x[0])"
   ]
  },
  {
   "cell_type": "code",
   "execution_count": 16,
   "id": "1967d9c4",
   "metadata": {},
   "outputs": [],
   "source": [
    "from nltk.stem import PorterStemmer\n",
    "ps=PorterStemmer()"
   ]
  },
  {
   "cell_type": "code",
   "execution_count": 17,
   "id": "64fe9bcd",
   "metadata": {},
   "outputs": [],
   "source": [
    "for i in range(len(x)):\n",
    "    x[i]=[ps.stem(words) for words in x[i]]"
   ]
  },
  {
   "cell_type": "code",
   "execution_count": 18,
   "id": "38b65722",
   "metadata": {},
   "outputs": [
    {
     "data": {
      "text/plain": [
       "['ne',\n",
       " 'review',\n",
       " 'mention',\n",
       " 'watch',\n",
       " 'z',\n",
       " 'episod',\n",
       " 'youll',\n",
       " 'hook',\n",
       " 'hey',\n",
       " 'right',\n",
       " 'exactli',\n",
       " 'happen',\n",
       " 'mebr',\n",
       " 'br',\n",
       " 'first',\n",
       " 'thing',\n",
       " 'struck',\n",
       " 'z',\n",
       " 'brutal',\n",
       " 'unflinch',\n",
       " 'scene',\n",
       " 'violenc',\n",
       " 'set',\n",
       " 'right',\n",
       " 'word',\n",
       " 'rust',\n",
       " 'show',\n",
       " 'faint',\n",
       " 'heart',\n",
       " 'timid',\n",
       " 'show',\n",
       " 'pull',\n",
       " 'punch',\n",
       " 'regard',\n",
       " 'drug',\n",
       " 'sex',\n",
       " 'violenc',\n",
       " 'ts',\n",
       " 'hardcor',\n",
       " 'classic',\n",
       " 'use',\n",
       " 'wordbr',\n",
       " 'br',\n",
       " 'call',\n",
       " 'nicknam',\n",
       " 'given',\n",
       " 'swald',\n",
       " 'aximum',\n",
       " 'ecur',\n",
       " 'tate',\n",
       " 'enitentari',\n",
       " 'focus',\n",
       " 'mainli',\n",
       " 'merald',\n",
       " 'iti',\n",
       " 'experiment',\n",
       " 'section',\n",
       " 'prison',\n",
       " 'cell',\n",
       " 'glass',\n",
       " 'front',\n",
       " 'face',\n",
       " 'inward',\n",
       " 'privaci',\n",
       " 'high',\n",
       " 'agenda',\n",
       " 'iti',\n",
       " 'home',\n",
       " 'manyryan',\n",
       " 'uslim',\n",
       " 'gangsta',\n",
       " 'atino',\n",
       " 'hristian',\n",
       " 'talian',\n",
       " 'rish',\n",
       " 'moreso',\n",
       " 'scuffl',\n",
       " 'death',\n",
       " 'stare',\n",
       " 'dodgi',\n",
       " 'deal',\n",
       " 'shadi',\n",
       " 'agreement',\n",
       " 'never',\n",
       " 'far',\n",
       " 'awaybr',\n",
       " 'br',\n",
       " 'would',\n",
       " 'say',\n",
       " 'main',\n",
       " 'appeal',\n",
       " 'show',\n",
       " 'due',\n",
       " 'fact',\n",
       " 'goe',\n",
       " 'show',\n",
       " 'wouldnt',\n",
       " 'dare',\n",
       " 'orget',\n",
       " 'pretti',\n",
       " 'pictur',\n",
       " 'paint',\n",
       " 'mainstream',\n",
       " 'audienc',\n",
       " 'forget',\n",
       " 'charm',\n",
       " 'forget',\n",
       " 'romanc',\n",
       " 'doesnt',\n",
       " 'mess',\n",
       " 'around',\n",
       " 'first',\n",
       " 'episod',\n",
       " 'ever',\n",
       " 'saw',\n",
       " 'struck',\n",
       " 'nasti',\n",
       " 'surreal',\n",
       " 'couldnt',\n",
       " 'say',\n",
       " 'readi',\n",
       " 'watch',\n",
       " 'develop',\n",
       " 'tast',\n",
       " 'z',\n",
       " 'got',\n",
       " 'accustom',\n",
       " 'high',\n",
       " 'level',\n",
       " 'graphic',\n",
       " 'violenc',\n",
       " 'ot',\n",
       " 'violenc',\n",
       " 'injustic',\n",
       " 'crook',\n",
       " 'guard',\n",
       " 'wholl',\n",
       " 'sold',\n",
       " 'nickel',\n",
       " 'inmat',\n",
       " 'wholl',\n",
       " 'kill',\n",
       " 'order',\n",
       " 'get',\n",
       " 'away',\n",
       " 'well',\n",
       " 'manner',\n",
       " 'middl',\n",
       " 'class',\n",
       " 'inmat',\n",
       " 'turn',\n",
       " 'prison',\n",
       " 'bitch',\n",
       " 'due',\n",
       " 'lack',\n",
       " 'street',\n",
       " 'skill',\n",
       " 'prison',\n",
       " 'experi',\n",
       " 'atch',\n",
       " 'z',\n",
       " 'may',\n",
       " 'becom',\n",
       " 'comfort',\n",
       " 'uncomfort',\n",
       " 'viewingthat',\n",
       " 'get',\n",
       " 'touch',\n",
       " 'darker',\n",
       " 'side']"
      ]
     },
     "execution_count": 18,
     "metadata": {},
     "output_type": "execute_result"
    }
   ],
   "source": [
    "x[0]"
   ]
  },
  {
   "cell_type": "code",
   "execution_count": 19,
   "id": "3b12dc86",
   "metadata": {},
   "outputs": [],
   "source": [
    "from tensorflow.keras.preprocessing.text import Tokenizer\n",
    "from tensorflow.keras.preprocessing.sequence import pad_sequences\n",
    "MAX_VOCAB_SIZE = 1000  # Vocabulary size\n",
    "MAX_SEQUENCE_LENGTH = 20  # Maximum sequence length\n",
    "\n",
    "# Tokenizer\n",
    "tokenizer = Tokenizer(num_words=MAX_VOCAB_SIZE, oov_token=\"<OOV>\")\n",
    "tokenizer.fit_on_texts(x)"
   ]
  },
  {
   "cell_type": "code",
   "execution_count": 20,
   "id": "2bb29161",
   "metadata": {},
   "outputs": [],
   "source": [
    "x=tokenizer.texts_to_sequences(x)"
   ]
  },
  {
   "cell_type": "code",
   "execution_count": 21,
   "id": "4df6406b",
   "metadata": {},
   "outputs": [],
   "source": [
    "x= pad_sequences(x,maxlen=MAX_SEQUENCE_LENGTH,padding='post')"
   ]
  },
  {
   "cell_type": "code",
   "execution_count": 22,
   "id": "02d642f3",
   "metadata": {},
   "outputs": [],
   "source": [
    "from tensorflow.keras.utils import to_categorical\n"
   ]
  },
  {
   "cell_type": "code",
   "execution_count": 23,
   "id": "b27032ea",
   "metadata": {},
   "outputs": [
    {
     "data": {
      "text/plain": [
       "array(['positive', 'negative'], dtype=object)"
      ]
     },
     "execution_count": 23,
     "metadata": {},
     "output_type": "execute_result"
    }
   ],
   "source": [
    "y.unique()"
   ]
  },
  {
   "cell_type": "code",
   "execution_count": 28,
   "id": "3bf20539",
   "metadata": {},
   "outputs": [],
   "source": [
    "y=y.map({'positive':0,'negative':1})\n",
    "y=to_categorical(y,num_classes=2)"
   ]
  },
  {
   "cell_type": "code",
   "execution_count": 29,
   "id": "978017ee",
   "metadata": {},
   "outputs": [],
   "source": [
    "from sklearn.model_selection import train_test_split\n",
    "xtrain,xtest,ytrain,ytest=train_test_split(x,y,test_size=0.3)"
   ]
  },
  {
   "cell_type": "code",
   "execution_count": 30,
   "id": "794b2769",
   "metadata": {},
   "outputs": [
    {
     "name": "stdout",
     "output_type": "stream",
     "text": [
      "WARNING:tensorflow:From C:\\Users\\gunas\\anaconda3\\Lib\\site-packages\\keras\\src\\backend.py:873: The name tf.get_default_graph is deprecated. Please use tf.compat.v1.get_default_graph instead.\n",
      "\n"
     ]
    }
   ],
   "source": [
    "model=tf.keras.Sequential()"
   ]
  },
  {
   "cell_type": "code",
   "execution_count": 34,
   "id": "e3a7a950",
   "metadata": {},
   "outputs": [],
   "source": [
    "model.add(tf.keras.layers.Embedding(input_dim=MAX_VOCAB_SIZE,output_dim=32,input_length=MAX_SEQUENCE_LENGTH))\n",
    "model.add(tf.keras.layers.LSTM(64,return_sequences=True))\n",
    "model.add(tf.keras.layers.LSTM(32))\n",
    "model.add(tf.keras.layers.Dense(16,activation='relu'))\n",
    "model.add(tf.keras.layers.Dense(2,activation='softmax'))"
   ]
  },
  {
   "cell_type": "code",
   "execution_count": 35,
   "id": "f9ca73fa",
   "metadata": {},
   "outputs": [
    {
     "name": "stdout",
     "output_type": "stream",
     "text": [
      "Epoch 1/10\n",
      "WARNING:tensorflow:From C:\\Users\\gunas\\anaconda3\\Lib\\site-packages\\keras\\src\\utils\\tf_utils.py:492: The name tf.ragged.RaggedTensorValue is deprecated. Please use tf.compat.v1.ragged.RaggedTensorValue instead.\n",
      "\n",
      "WARNING:tensorflow:Gradients do not exist for variables ['embedding/embeddings:0', 'lstm/lstm_cell/kernel:0', 'lstm/lstm_cell/recurrent_kernel:0', 'lstm/lstm_cell/bias:0', 'embedding_1/embeddings:0', 'lstm_2/lstm_cell/kernel:0', 'lstm_2/lstm_cell/recurrent_kernel:0', 'lstm_2/lstm_cell/bias:0', 'lstm_3/lstm_cell/kernel:0', 'lstm_3/lstm_cell/recurrent_kernel:0', 'lstm_3/lstm_cell/bias:0', 'dense/kernel:0', 'dense/bias:0', 'dense_1/kernel:0', 'dense_1/bias:0'] when minimizing the loss. If you're using `model.compile()`, did you forget to provide a `loss` argument?\n",
      "WARNING:tensorflow:Gradients do not exist for variables ['embedding/embeddings:0', 'lstm/lstm_cell/kernel:0', 'lstm/lstm_cell/recurrent_kernel:0', 'lstm/lstm_cell/bias:0', 'embedding_1/embeddings:0', 'lstm_2/lstm_cell/kernel:0', 'lstm_2/lstm_cell/recurrent_kernel:0', 'lstm_2/lstm_cell/bias:0', 'lstm_3/lstm_cell/kernel:0', 'lstm_3/lstm_cell/recurrent_kernel:0', 'lstm_3/lstm_cell/bias:0', 'dense/kernel:0', 'dense/bias:0', 'dense_1/kernel:0', 'dense_1/bias:0'] when minimizing the loss. If you're using `model.compile()`, did you forget to provide a `loss` argument?\n",
      "WARNING:tensorflow:From C:\\Users\\gunas\\anaconda3\\Lib\\site-packages\\keras\\src\\engine\\base_layer_utils.py:384: The name tf.executing_eagerly_outside_functions is deprecated. Please use tf.compat.v1.executing_eagerly_outside_functions instead.\n",
      "\n",
      "WARNING:tensorflow:Gradients do not exist for variables ['embedding/embeddings:0', 'lstm/lstm_cell/kernel:0', 'lstm/lstm_cell/recurrent_kernel:0', 'lstm/lstm_cell/bias:0', 'embedding_1/embeddings:0', 'lstm_2/lstm_cell/kernel:0', 'lstm_2/lstm_cell/recurrent_kernel:0', 'lstm_2/lstm_cell/bias:0', 'lstm_3/lstm_cell/kernel:0', 'lstm_3/lstm_cell/recurrent_kernel:0', 'lstm_3/lstm_cell/bias:0', 'dense/kernel:0', 'dense/bias:0', 'dense_1/kernel:0', 'dense_1/bias:0'] when minimizing the loss. If you're using `model.compile()`, did you forget to provide a `loss` argument?\n",
      "WARNING:tensorflow:Gradients do not exist for variables ['embedding/embeddings:0', 'lstm/lstm_cell/kernel:0', 'lstm/lstm_cell/recurrent_kernel:0', 'lstm/lstm_cell/bias:0', 'embedding_1/embeddings:0', 'lstm_2/lstm_cell/kernel:0', 'lstm_2/lstm_cell/recurrent_kernel:0', 'lstm_2/lstm_cell/bias:0', 'lstm_3/lstm_cell/kernel:0', 'lstm_3/lstm_cell/recurrent_kernel:0', 'lstm_3/lstm_cell/bias:0', 'dense/kernel:0', 'dense/bias:0', 'dense_1/kernel:0', 'dense_1/bias:0'] when minimizing the loss. If you're using `model.compile()`, did you forget to provide a `loss` argument?\n",
      "70/70 [==============================] - 19s 93ms/step - loss: 0.6881 - accuracy: 0.6000 - val_loss: 0.6950 - val_accuracy: 0.5167\n",
      "Epoch 2/10\n",
      "70/70 [==============================] - 2s 31ms/step - loss: 0.6769 - accuracy: 0.6000 - val_loss: 0.7038 - val_accuracy: 0.5167\n",
      "Epoch 3/10\n",
      "70/70 [==============================] - 2s 31ms/step - loss: 0.6772 - accuracy: 0.6000 - val_loss: 0.6965 - val_accuracy: 0.5167\n",
      "Epoch 4/10\n",
      "70/70 [==============================] - 2s 32ms/step - loss: 0.6771 - accuracy: 0.6000 - val_loss: 0.6995 - val_accuracy: 0.5167\n",
      "Epoch 5/10\n",
      "70/70 [==============================] - 2s 32ms/step - loss: 0.6757 - accuracy: 0.6000 - val_loss: 0.7075 - val_accuracy: 0.5167\n",
      "Epoch 6/10\n",
      "70/70 [==============================] - 2s 32ms/step - loss: 0.6760 - accuracy: 0.6000 - val_loss: 0.7044 - val_accuracy: 0.5167\n",
      "Epoch 7/10\n",
      "70/70 [==============================] - 2s 32ms/step - loss: 0.6747 - accuracy: 0.6000 - val_loss: 0.7005 - val_accuracy: 0.5167\n",
      "Epoch 8/10\n",
      "70/70 [==============================] - 2s 32ms/step - loss: 0.6756 - accuracy: 0.6000 - val_loss: 0.7066 - val_accuracy: 0.5167\n",
      "Epoch 9/10\n",
      "70/70 [==============================] - 2s 32ms/step - loss: 0.6756 - accuracy: 0.6000 - val_loss: 0.7063 - val_accuracy: 0.5167\n",
      "Epoch 10/10\n",
      "70/70 [==============================] - 2s 31ms/step - loss: 0.6748 - accuracy: 0.6000 - val_loss: 0.7045 - val_accuracy: 0.5167\n"
     ]
    },
    {
     "data": {
      "text/plain": [
       "<keras.src.callbacks.History at 0x1b4da9cb8d0>"
      ]
     },
     "execution_count": 35,
     "metadata": {},
     "output_type": "execute_result"
    }
   ],
   "source": [
    "model.compile(loss='categorical_crossentropy', optimizer='adam', metrics=['accuracy'])\n",
    "\n",
    "# Train the model\n",
    "model.fit(xtrain, ytrain, epochs=10, batch_size=2, validation_data=(xtest, ytest))"
   ]
  },
  {
   "cell_type": "code",
   "execution_count": null,
   "id": "46dc4060",
   "metadata": {},
   "outputs": [],
   "source": []
  }
 ],
 "metadata": {
  "kernelspec": {
   "display_name": "Python 3 (ipykernel)",
   "language": "python",
   "name": "python3"
  },
  "language_info": {
   "codemirror_mode": {
    "name": "ipython",
    "version": 3
   },
   "file_extension": ".py",
   "mimetype": "text/x-python",
   "name": "python",
   "nbconvert_exporter": "python",
   "pygments_lexer": "ipython3",
   "version": "3.11.3"
  }
 },
 "nbformat": 4,
 "nbformat_minor": 5
}
